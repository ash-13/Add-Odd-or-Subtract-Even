{
 "cells": [
  {
   "cell_type": "markdown",
   "metadata": {},
   "source": [
    "# Add Odd or Subtract Even"
   ]
  },
  {
   "cell_type": "markdown",
   "metadata": {},
   "source": [
    "##### Time limit per test : 2 seconds\n",
    "##### memory limit per test :256 megabytes\n",
    "##### input standard : input\n",
    "##### output standard : output"
   ]
  },
  {
   "cell_type": "markdown",
   "metadata": {},
   "source": [
    "# Problem \n",
    "\n",
    "You are given two positive integers 𝑎 and 𝑏.\n",
    "In one move, you can change 𝑎 in the following way:\n",
    "\n",
    "    Choose any positive odd integer 𝑥 (𝑥>0) and replace 𝑎 with 𝑎+𝑥\n",
    "\n",
    "    Choose any positive even integer 𝑦 (𝑦>0) and replace 𝑎 with 𝑎−𝑦\n",
    "You can perform as many such operations as you want. You can choose the same numbers 𝑥 and 𝑦 in different moves.\n",
    "\n",
    "Your task is to find the minimum number of moves required to obtain 𝑏 from 𝑎. It is guaranteed that you can always obtain 𝑏 from 𝑎.\n",
    "\n",
    "You have to answer 𝑡 independent test cases.\n",
    "\n",
    "## Input\n",
    "The first line of the input contains one integer 𝑡 (1≤𝑡≤104) — the number of test cases.\n",
    "\n",
    "Then 𝑡 test cases follow. Each test case is given as two space-separated integers 𝑎 and 𝑏 (1≤𝑎,𝑏≤109).\n",
    "\n",
    "## Output\n",
    "For each test case, print the answer — the minimum number of moves required to obtain 𝑏 from 𝑎 if you can perform any number of moves described in the problem statement. It is guaranteed that you can always obtain 𝑏 from 𝑎.\n",
    "\n",
    "### Example\n",
    "input :\n",
    "\n",
    "    5\n",
    "    2 3\n",
    "    10 10\n",
    "    2 4\n",
    "    7 4\n",
    "    9 3\n",
    "output :\n",
    "\n",
    "    1\n",
    "    0\n",
    "    2\n",
    "    2\n",
    "    1\n"
   ]
  },
  {
   "cell_type": "code",
   "execution_count": null,
   "metadata": {
    "scrolled": false
   },
   "outputs": [],
   "source": [
    "\n",
    "flag=0\n",
    "zz = []\n",
    "\n",
    "n = int(input())\n",
    "\n",
    "    \n",
    "for i in range(n):\n",
    "    a,b = input().split()\n",
    "    a = int(a)\n",
    "    b = int(b)\n",
    "    \n",
    "    while(a!=b):\n",
    "        if a>b:\n",
    "            temp = a - b\n",
    "            if temp%2==0: \n",
    "                a = a - temp\n",
    "                flag = flag+1\n",
    "            if temp%2!=0: \n",
    "                a = a + temp\n",
    "                flag = flag+1\n",
    "\n",
    "        elif a<b:\n",
    "            temp = b-a\n",
    "            if temp%2==0: \n",
    "                a = a + temp - 1\n",
    "                flag = flag+1\n",
    "            elif temp%2!=0: \n",
    "                a = a+temp\n",
    "                flag = flag+1\n",
    "    zz.append(flag)\n",
    "    flag = 0\n",
    "    \n",
    "print(*zz,sep=\"\\n\")\n",
    "\n"
   ]
  },
  {
   "cell_type": "code",
   "execution_count": null,
   "metadata": {},
   "outputs": [],
   "source": []
  }
 ],
 "metadata": {
  "kernelspec": {
   "display_name": "Python 3",
   "language": "python",
   "name": "python3"
  },
  "language_info": {
   "codemirror_mode": {
    "name": "ipython",
    "version": 3
   },
   "file_extension": ".py",
   "mimetype": "text/x-python",
   "name": "python",
   "nbconvert_exporter": "python",
   "pygments_lexer": "ipython3",
   "version": "3.7.3"
  }
 },
 "nbformat": 4,
 "nbformat_minor": 2
}
